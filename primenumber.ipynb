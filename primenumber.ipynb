{
  "nbformat": 4,
  "nbformat_minor": 0,
  "metadata": {
    "colab": {
      "name": "primenumber.ipynb",
      "provenance": [],
      "authorship_tag": "ABX9TyM52NtwBS/+rEyb4T8PrQMI",
      "include_colab_link": true
    },
    "kernelspec": {
      "name": "python3",
      "display_name": "Python 3"
    },
    "language_info": {
      "name": "python"
    }
  },
  "cells": [
    {
      "cell_type": "markdown",
      "metadata": {
        "id": "view-in-github",
        "colab_type": "text"
      },
      "source": [
        "<a href=\"https://colab.research.google.com/github/Favour-Aiyegbeni/Project-euler-solution/blob/main/primenumber.ipynb\" target=\"_parent\"><img src=\"https://colab.research.google.com/assets/colab-badge.svg\" alt=\"Open In Colab\"/></a>"
      ]
    },
    {
      "cell_type": "markdown",
      "metadata": {
        "id": "oFGlosGAUsoW"
      },
      "source": [
        "By listing the first six prime numbers: 2, 3, 5, 7, 11, and 13, we can see that the 6th prime is 13.\n",
        "\n",
        "What is the 10 001st prime number?"
      ]
    },
    {
      "cell_type": "markdown",
      "metadata": {
        "id": "k6fXEQazVQkE"
      },
      "source": [
        "To check for prime numbers"
      ]
    },
    {
      "cell_type": "code",
      "metadata": {
        "id": "yKuI_gHiUwTB"
      },
      "source": [
        "import math\n",
        "def is_primenumber(x):\n",
        "    y = int(math.sqrt(x))+1\n",
        "    for i in range(2, y):\n",
        "        if not x%i :\n",
        "          return False\n",
        "        \n",
        "    return True"
      ],
      "execution_count": 5,
      "outputs": []
    },
    {
      "cell_type": "markdown",
      "metadata": {
        "id": "3qnHIgttVuPE"
      },
      "source": [
        "To check for the 10001st prime number "
      ]
    },
    {
      "cell_type": "code",
      "metadata": {
        "id": "7_TI9BLBV2e9"
      },
      "source": [
        "def which_primenumber(limit):\n",
        "  count=1 \n",
        "  m=2\n",
        "  while count<limit :\n",
        "    m+=1\n",
        "    if is_primenumber(m):\n",
        "      count+=1\n",
        "  return m\n",
        "\n",
        "\n",
        "\n"
      ],
      "execution_count": 11,
      "outputs": []
    },
    {
      "cell_type": "markdown",
      "metadata": {
        "id": "qRJnP4P3dxqg"
      },
      "source": [
        "The result"
      ]
    },
    {
      "cell_type": "code",
      "metadata": {
        "colab": {
          "base_uri": "https://localhost:8080/"
        },
        "id": "Nbr7aA49fuW0",
        "outputId": "ba743ed6-743d-4e63-f253-ea81de2f2718"
      },
      "source": [
        "which_primenumber(10001)"
      ],
      "execution_count": 12,
      "outputs": [
        {
          "output_type": "execute_result",
          "data": {
            "text/plain": [
              "104743"
            ]
          },
          "metadata": {},
          "execution_count": 12
        }
      ]
    },
    {
      "cell_type": "code",
      "metadata": {
        "id": "9ReD3UECdzQm"
      },
      "source": [
        ""
      ],
      "execution_count": null,
      "outputs": []
    }
  ]
}