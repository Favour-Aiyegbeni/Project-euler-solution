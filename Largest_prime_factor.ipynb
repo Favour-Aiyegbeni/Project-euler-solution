{
  "nbformat": 4,
  "nbformat_minor": 0,
  "metadata": {
    "colab": {
      "name": "Largest_prime_factor.ipynb",
      "provenance": [],
      "collapsed_sections": [],
      "authorship_tag": "ABX9TyMUtYBVmaGtYMQqjDLvhqY4",
      "include_colab_link": true
    },
    "kernelspec": {
      "name": "python3",
      "display_name": "Python 3"
    },
    "language_info": {
      "name": "python"
    }
  },
  "cells": [
    {
      "cell_type": "markdown",
      "metadata": {
        "id": "view-in-github",
        "colab_type": "text"
      },
      "source": [
        "<a href=\"https://colab.research.google.com/github/Favour-Aiyegbeni/Project-euler-solution/blob/main/Largest_prime_factor.ipynb\" target=\"_parent\"><img src=\"https://colab.research.google.com/assets/colab-badge.svg\" alt=\"Open In Colab\"/></a>"
      ]
    },
    {
      "cell_type": "markdown",
      "metadata": {
        "id": "kafqB9fJNB-q"
      },
      "source": [
        "The prime factors of 13195 are 5, 7, 13 and 29.\n",
        "\n",
        "**What is the largest prime factor of the number 600851475143 ? **"
      ]
    },
    {
      "cell_type": "code",
      "metadata": {
        "id": "ytwRhfyuLxvU"
      },
      "source": [
        "import math\n",
        "\n"
      ],
      "execution_count": 48,
      "outputs": []
    },
    {
      "cell_type": "markdown",
      "metadata": {
        "id": "kE3tLufgQlx2"
      },
      "source": [
        "Every composite number has a proper factor less than or equal to its square root."
      ]
    },
    {
      "cell_type": "code",
      "metadata": {
        "id": "qw_4T5_dMygc"
      },
      "source": [
        "def is_primenumber(x):\n",
        "    y = int(math.sqrt(x))+1\n",
        "    for i in range(2, y):\n",
        "        if not x%i :\n",
        "          return False\n",
        "        \n",
        "    return True\n",
        "  \n",
        "  \n",
        "         \n",
        "\n",
        "   "
      ],
      "execution_count": 49,
      "outputs": []
    },
    {
      "cell_type": "markdown",
      "metadata": {
        "id": "5GQJPn4_aSbm"
      },
      "source": [
        "check for factors and divide to keep reducing the factors and then check if it is prime"
      ]
    },
    {
      "cell_type": "code",
      "metadata": {
        "id": "-2BQ2V3HUseM"
      },
      "source": [
        "def largest_primenumber(number):\n",
        "  h = int(math.sqrt(number))+1\n",
        "  for i in range(2,h):\n",
        "    if number%i==0:\n",
        "      number = number/i\n",
        "      if is_primenumber(number) is True :\n",
        "         return number\n",
        "      else :\n",
        "        i+=1\n",
        "   \n",
        "  \n",
        "     \n",
        "  return max(prime_list)\n"
      ],
      "execution_count": 50,
      "outputs": []
    },
    {
      "cell_type": "markdown",
      "metadata": {
        "id": "duw6hg1Wb2u_"
      },
      "source": [
        "The result"
      ]
    },
    {
      "cell_type": "code",
      "metadata": {
        "colab": {
          "base_uri": "https://localhost:8080/"
        },
        "id": "bntfZxu2b6cH",
        "outputId": "dd71f0b9-ee5f-403c-94cf-a63fe52a3c93"
      },
      "source": [
        "largest_primenumber(600851475143 )\n"
      ],
      "execution_count": 51,
      "outputs": [
        {
          "output_type": "execute_result",
          "data": {
            "text/plain": [
              "6857.0"
            ]
          },
          "metadata": {},
          "execution_count": 51
        }
      ]
    }
  ]
}