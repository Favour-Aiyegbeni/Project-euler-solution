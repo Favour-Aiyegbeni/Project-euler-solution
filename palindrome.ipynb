{
  "nbformat": 4,
  "nbformat_minor": 0,
  "metadata": {
    "colab": {
      "name": "palindrome.ipynb",
      "provenance": [],
      "authorship_tag": "ABX9TyP+2HsnDroz4Dzsd8AqE18/",
      "include_colab_link": true
    },
    "kernelspec": {
      "name": "python3",
      "display_name": "Python 3"
    },
    "language_info": {
      "name": "python"
    }
  },
  "cells": [
    {
      "cell_type": "markdown",
      "metadata": {
        "id": "view-in-github",
        "colab_type": "text"
      },
      "source": [
        "<a href=\"https://colab.research.google.com/github/Favour-Aiyegbeni/Project-euler-solution/blob/main/palindrome.ipynb\" target=\"_parent\"><img src=\"https://colab.research.google.com/assets/colab-badge.svg\" alt=\"Open In Colab\"/></a>"
      ]
    },
    {
      "cell_type": "markdown",
      "metadata": {
        "id": "--c2ACL295J6"
      },
      "source": [
        "A palindromic number reads the same both ways. The largest palindrome made from the product of two 2-digit numbers is 9009 = 91 × 99.\n",
        "\n",
        "Find the largest palindrome made from the product of two 3-digit numbers."
      ]
    },
    {
      "cell_type": "markdown",
      "metadata": {
        "id": "yg5B9276-V47"
      },
      "source": [
        "Check if product is a palindrome"
      ]
    },
    {
      "cell_type": "code",
      "metadata": {
        "id": "HnsIUdf3-f1e"
      },
      "source": [
        "def ispalindrome(number):\n",
        "    conv_number = str(number)\n",
        "    reverse_number = conv_number[::-1]\n",
        "    if conv_number == reverse_number:\n",
        "      return True\n",
        "    else:\n",
        "      return False\n"
      ],
      "execution_count": 27,
      "outputs": []
    },
    {
      "cell_type": "markdown",
      "metadata": {
        "id": "wkx_EZTIBKJr"
      },
      "source": [
        "find the multiples from behind and check which is a palindrome"
      ]
    },
    {
      "cell_type": "code",
      "metadata": {
        "id": "31xiL7bxAUkR"
      },
      "source": [
        "def largest_palindrome(lowest,highest):\n",
        "  max_palindrome =1\n",
        "  for i in range(highest, lowest+1, -1):\n",
        "    for j in range(i, lowest+1, -1):\n",
        "       if ispalindrome(i*j) is True:\n",
        "         if i*j > max_palindrome :\n",
        "            max_palindrome = i*j\n",
        "            break\n",
        "       elif i*j< max_palindrome:\n",
        "            break\n",
        "  return max_palindrome\n",
        "            \n",
        " "
      ],
      "execution_count": 49,
      "outputs": []
    },
    {
      "cell_type": "markdown",
      "metadata": {
        "id": "63UA09rqEFuq"
      },
      "source": [
        "The smallest three digit number is 100 and the largest three digit number is 999"
      ]
    },
    {
      "cell_type": "code",
      "metadata": {
        "colab": {
          "base_uri": "https://localhost:8080/"
        },
        "id": "HRSi295GEPKW",
        "outputId": "d3d3733a-0865-4d38-ebe5-df1afc16bc44"
      },
      "source": [
        "print(largest_palindrome(100,999))"
      ],
      "execution_count": 50,
      "outputs": [
        {
          "output_type": "stream",
          "name": "stdout",
          "text": [
            "906609\n"
          ]
        }
      ]
    }
  ]
}